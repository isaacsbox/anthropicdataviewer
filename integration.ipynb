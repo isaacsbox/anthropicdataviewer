{
 "cells": [
  {
   "cell_type": "code",
   "execution_count": null,
   "metadata": {},
   "outputs": [
    {
     "data": {
      "text/html": [
       "<div>\n",
       "<style scoped>\n",
       "    .dataframe tbody tr th:only-of-type {\n",
       "        vertical-align: middle;\n",
       "    }\n",
       "\n",
       "    .dataframe tbody tr th {\n",
       "        vertical-align: top;\n",
       "    }\n",
       "\n",
       "    .dataframe thead th {\n",
       "        text-align: right;\n",
       "    }\n",
       "</style>\n",
       "<table border=\"1\" class=\"dataframe\">\n",
       "  <thead>\n",
       "    <tr style=\"text-align: right;\">\n",
       "      <th></th>\n",
       "      <th>task_name</th>\n",
       "      <th>feedback_loop</th>\n",
       "      <th>directive</th>\n",
       "      <th>task_iteration</th>\n",
       "      <th>validation</th>\n",
       "      <th>learning</th>\n",
       "      <th>filtered</th>\n",
       "      <th>pct</th>\n",
       "    </tr>\n",
       "  </thead>\n",
       "  <tbody>\n",
       "    <tr>\n",
       "      <th>0</th>\n",
       "      <td>act as advisers to student organizations</td>\n",
       "      <td>0.0</td>\n",
       "      <td>0.382979</td>\n",
       "      <td>0.361702</td>\n",
       "      <td>0.0</td>\n",
       "      <td>0.0</td>\n",
       "      <td>0.255319</td>\n",
       "      <td>0.006775</td>\n",
       "    </tr>\n",
       "    <tr>\n",
       "      <th>1</th>\n",
       "      <td>act as an advocate for farmers or farmers' groups</td>\n",
       "      <td>0.0</td>\n",
       "      <td>0.000000</td>\n",
       "      <td>0.000000</td>\n",
       "      <td>0.0</td>\n",
       "      <td>0.0</td>\n",
       "      <td>1.000000</td>\n",
       "      <td>0.002997</td>\n",
       "    </tr>\n",
       "    <tr>\n",
       "      <th>2</th>\n",
       "      <td>act as an intermediary in negotiations between...</td>\n",
       "      <td>0.0</td>\n",
       "      <td>0.391304</td>\n",
       "      <td>0.434783</td>\n",
       "      <td>0.0</td>\n",
       "      <td>0.0</td>\n",
       "      <td>0.173913</td>\n",
       "      <td>0.012638</td>\n",
       "    </tr>\n",
       "    <tr>\n",
       "      <th>3</th>\n",
       "      <td>act as an intermediary in negotiations between...</td>\n",
       "      <td>0.0</td>\n",
       "      <td>0.391304</td>\n",
       "      <td>0.376812</td>\n",
       "      <td>0.0</td>\n",
       "      <td>0.0</td>\n",
       "      <td>0.231884</td>\n",
       "      <td>0.011466</td>\n",
       "    </tr>\n",
       "    <tr>\n",
       "      <th>4</th>\n",
       "      <td>act as liaisons between on-site managers or te...</td>\n",
       "      <td>0.0</td>\n",
       "      <td>0.555556</td>\n",
       "      <td>0.000000</td>\n",
       "      <td>0.0</td>\n",
       "      <td>0.0</td>\n",
       "      <td>0.444444</td>\n",
       "      <td>0.005081</td>\n",
       "    </tr>\n",
       "  </tbody>\n",
       "</table>\n",
       "</div>"
      ],
      "text/plain": [
       "                                           task_name  feedback_loop  \\\n",
       "0           act as advisers to student organizations            0.0   \n",
       "1  act as an advocate for farmers or farmers' groups            0.0   \n",
       "2  act as an intermediary in negotiations between...            0.0   \n",
       "3  act as an intermediary in negotiations between...            0.0   \n",
       "4  act as liaisons between on-site managers or te...            0.0   \n",
       "\n",
       "   directive  task_iteration  validation  learning  filtered       pct  \n",
       "0   0.382979        0.361702         0.0       0.0  0.255319  0.006775  \n",
       "1   0.000000        0.000000         0.0       0.0  1.000000  0.002997  \n",
       "2   0.391304        0.434783         0.0       0.0  0.173913  0.012638  \n",
       "3   0.391304        0.376812         0.0       0.0  0.231884  0.011466  \n",
       "4   0.555556        0.000000         0.0       0.0  0.444444  0.005081  "
      ]
     },
     "execution_count": 7,
     "metadata": {},
     "output_type": "execute_result"
    }
   ],
   "source": [
    "import pandas as pd\n",
    "\n",
    "# We perform a simple integration that only takes matching task descriptors in both datasets\n",
    "\n",
    "interaction_data = pd.read_csv(\"anthropic/interaction_type.csv\")\n",
    "volume_data = pd.read_csv(\"anthropic/task_mappings.csv\")\n",
    "\n",
    "interaction_data['task_name'] = interaction_data['task_name'].str.strip().str.strip('''!\"#$%&'()*+,-./:;<=>?@[\\]^_`{|}~''')\n",
    "volume_data['task_name'] = volume_data['task_name'].str.strip().str.strip('''!\"#$%&'()*+,-./:;<=>?@[\\]^_`{|}~''')\n",
    "\n",
    "integrated = pd.merge(interaction_data, volume_data, how='inner', on='task_name')\n",
    "\n",
    "integrated.head()"
   ]
  },
  {
   "cell_type": "code",
   "execution_count": 8,
   "metadata": {},
   "outputs": [
    {
     "name": "stdout",
     "output_type": "stream",
     "text": [
      "Interaction rows: 3364\n",
      "Volume rows: 3514\n",
      "Integrated rows: 2780\n"
     ]
    }
   ],
   "source": [
    "print(f\"Interaction rows: {len(interaction_data)}\")\n",
    "print(f\"Volume rows: {len(volume_data)}\")\n",
    "print(f\"Integrated rows: {len(integrated)}\")\n"
   ]
  },
  {
   "cell_type": "code",
   "execution_count": null,
   "metadata": {},
   "outputs": [],
   "source": [
    "integrated.to_csv(\"anthropic/integrated.csv\", index=False)"
   ]
  }
 ],
 "metadata": {
  "kernelspec": {
   "display_name": ".venv",
   "language": "python",
   "name": "python3"
  },
  "language_info": {
   "codemirror_mode": {
    "name": "ipython",
    "version": 3
   },
   "file_extension": ".py",
   "mimetype": "text/x-python",
   "name": "python",
   "nbconvert_exporter": "python",
   "pygments_lexer": "ipython3",
   "version": "3.11.0"
  }
 },
 "nbformat": 4,
 "nbformat_minor": 2
}
